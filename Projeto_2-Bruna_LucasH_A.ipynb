{
 "cells": [
  {
   "cell_type": "markdown",
   "metadata": {},
   "source": [
    ">>Projeto 2\n",
    "\n",
    "    Pergunta: Qual é a faixa de dosagem de dipirona ingerida para que o remédio se torne tóxico?\n",
    "    \n",
    "    Diagrama:\n",
    "    "
   ]
  },
  {
   "cell_type": "code",
   "execution_count": 2,
   "metadata": {
    "collapsed": true
   },
   "outputs": [],
   "source": [
    "#Dados experimentais\n",
    "\n",
    "TempoEx = [0.356324,0.367057,0.519997,0.668644,1.08990,1.37110,2.34079,3.02714,4.13368,5.10123,5.92764,7.31216,8.13642,9.65456,10.7611,\n",
    "           11.7297,12.2803,14.0818,15.0493,16.2916,17.3971,17.9509,18.3625,19.1953,20.0218]\n",
    "\n",
    "ConcentracaoEx = [1.85191,2.88343,5.12549,7.63215,9.10158,10.3874,9.07362,6.35634,5.08013,4.06155,2.97302,2.37448,1.59081,1.01788,0.813513,\n",
    "                 0.679844,0.544091,0.434107,0.347067,0.242798,0.185645,0.169681,0.135845,0.129695,0.0949358]\n",
    "           \n",
    "           \n",
    "           \n",
    "                  "
   ]
  },
  {
   "cell_type": "code",
   "execution_count": 33,
   "metadata": {
    "collapsed": false
   },
   "outputs": [
    {
     "name": "stdout",
     "output_type": "stream",
     "text": [
      "10.8888913126\n"
     ]
    },
    {
     "data": {
      "image/png": "[encoded data removed]",
      "text/plain": [
       "<matplotlib.figure.Figure at 0x67242f0>"
      ]
     },
     "metadata": {},
     "output_type": "display_data"
    }
   ],
   "source": [
    "#Implementaçõa para validação!!\n",
    "import matplotlib.pyplot as plt\n",
    "%matplotlib inline\n",
    "from scipy.integrate import odeint\n",
    "from numpy import linspace\n",
    "\n",
    "#Parâmetros\n",
    "Ke = 0.26\n",
    "K = 15\n",
    "\n",
    "#lista tempo\n",
    "T = linspace(0,36,1000)\n",
    "\n",
    "#Inclui o atraso de 0,4 hora\n",
    "Texp = [x+ 0.4 for x in T] \n",
    "\n",
    "def func(Y,t):\n",
    "    dEdT = -Ke*Y[0]\n",
    "    dSdT = Ke*Y[0]-K*Y[1]\n",
    "    \n",
    "    return [dEdT, dSdT]\n",
    "\n",
    "#Condições iniciais\n",
    "\n",
    "E0 = 750*0.9\n",
    "S0 = 0\n",
    "\n",
    "Y0 = [E0, S0]\n",
    "\n",
    "# Odeint\n",
    "Y = odeint(func, Y0, T)\n",
    "\n",
    "print (max(Y[:, 1]))\n",
    "\n",
    "#Plotar gráfico\n",
    "plt.plot(Texp, Y[:,1])\n",
    "plt.plot(TempoEx, ConcentracaoEx, 'o')\n",
    "plt.axis([0, 25, 0.1, 100])\n",
    "plt.yscale('log')\n",
    "plt.ylabel('Concentração (mg/mL)')\n",
    "plt.xlabel('Tempo (h)')\n",
    "plt.title(r'Validação')\n",
    "plt.show()\n",
    "    \n",
    "    "
   ]
  },
  {
   "cell_type": "code",
   "execution_count": null,
   "metadata": {
    "collapsed": true
   },
   "outputs": [],
   "source": []
  },
  {
   "cell_type": "code",
   "execution_count": null,
   "metadata": {
    "collapsed": true
   },
   "outputs": [],
   "source": []
  }
 ],
 "metadata": {
  "kernelspec": {
   "display_name": "Python 3",
   "language": "python",
   "name": "python3"
  },
  "language_info": {
   "codemirror_mode": {
    "name": "ipython",
    "version": 3
   },
   "file_extension": ".py",
   "mimetype": "text/x-python",
   "name": "python",
   "nbconvert_exporter": "python",
   "pygments_lexer": "ipython3",
   "version": "3.5.1"
  }
 },
 "nbformat": 4,
 "nbformat_minor": 0
}
